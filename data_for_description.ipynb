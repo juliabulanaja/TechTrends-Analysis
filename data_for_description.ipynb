{
 "cells": [
  {
   "cell_type": "code",
   "execution_count": 1,
   "id": "db235859-8e2a-4a4a-8152-9c88515bf3ce",
   "metadata": {},
   "outputs": [],
   "source": [
    "import pandas as pd\n",
    "import numpy as np\n",
    "import seaborn as sns\n",
    "\n",
    "import matplotlib.pyplot as plt"
   ]
  },
  {
   "cell_type": "code",
   "execution_count": 2,
   "id": "a30d2278-b5bd-4a2e-9692-b6e01a165fb6",
   "metadata": {},
   "outputs": [],
   "source": [
    "file_name = 'dataset/m5_survey_data_technologies_normalised.csv'\n",
    "df = pd.read_csv(file_name)"
   ]
  },
  {
   "cell_type": "code",
   "execution_count": 11,
   "id": "1ea217fd-0732-4a52-aafc-c17141b8a4e5",
   "metadata": {},
   "outputs": [
    {
     "data": {
      "text/plain": [
       "LanguageWorkedWith\n",
       "JavaScript               8687\n",
       "HTML/CSS                 7830\n",
       "SQL                      7106\n",
       "Bash/Shell/PowerShell    4642\n",
       "Python                   4542\n",
       "Java                     4506\n",
       "C#                       4288\n",
       "TypeScript               3232\n",
       "PHP                      2913\n",
       "C++                      1946\n",
       "Name: count, dtype: int64"
      ]
     },
     "execution_count": 11,
     "metadata": {},
     "output_type": "execute_result"
    }
   ],
   "source": [
    "df['LanguageWorkedWith'].value_counts().sort_values(ascending=False)[:10]"
   ]
  },
  {
   "cell_type": "code",
   "execution_count": 12,
   "id": "4367ddf9-4bd5-4648-9c39-5c52acf38fe5",
   "metadata": {},
   "outputs": [
    {
     "data": {
      "text/plain": [
       "LanguageDesireNextYear\n",
       "JavaScript               6630\n",
       "HTML/CSS                 5328\n",
       "Python                   5239\n",
       "SQL                      5012\n",
       "TypeScript               4088\n",
       "C#                       3591\n",
       "Bash/Shell/PowerShell    3097\n",
       "Java                     2953\n",
       "Go                       2759\n",
       "Kotlin                   1890\n",
       "Name: count, dtype: int64"
      ]
     },
     "execution_count": 12,
     "metadata": {},
     "output_type": "execute_result"
    }
   ],
   "source": [
    "df['LanguageDesireNextYear'].value_counts().sort_values(ascending=False)[:10]"
   ]
  },
  {
   "cell_type": "code",
   "execution_count": 14,
   "id": "75c8c331-f5ef-405c-ae4f-54dd889c48d2",
   "metadata": {},
   "outputs": [
    {
     "data": {
      "text/plain": [
       "DatabaseWorkedWith\n",
       "MySQL                   5469\n",
       "Microsoft SQL Server    4110\n",
       "PostgreSQL              4097\n",
       "SQLite                  3248\n",
       "MongoDB                 3016\n",
       "Redis                   2508\n",
       "Elasticsearch           1954\n",
       "Oracle                  1744\n",
       "MariaDB                 1709\n",
       "Firebase                1314\n",
       "Name: count, dtype: int64"
      ]
     },
     "execution_count": 14,
     "metadata": {},
     "output_type": "execute_result"
    }
   ],
   "source": [
    "df['DatabaseWorkedWith'].value_counts().sort_values(ascending=False)[:10]"
   ]
  },
  {
   "cell_type": "code",
   "execution_count": 15,
   "id": "374dbada-4071-4ad2-ad91-ad1106b27ac4",
   "metadata": {},
   "outputs": [
    {
     "data": {
      "text/plain": [
       "DatabaseDesireNextYear\n",
       "PostgreSQL              4328\n",
       "MongoDB                 3649\n",
       "Redis                   3331\n",
       "MySQL                   3281\n",
       "Elasticsearch           2856\n",
       "Microsoft SQL Server    2706\n",
       "SQLite                  2437\n",
       "Firebase                1650\n",
       "MariaDB                 1385\n",
       "DynamoDB                1044\n",
       "Name: count, dtype: int64"
      ]
     },
     "execution_count": 15,
     "metadata": {},
     "output_type": "execute_result"
    }
   ],
   "source": [
    "df['DatabaseDesireNextYear'].value_counts().sort_values(ascending=False)[:10]"
   ]
  },
  {
   "cell_type": "code",
   "execution_count": 13,
   "id": "a8d9b5b3-2597-4630-9539-808da91b8cf7",
   "metadata": {},
   "outputs": [
    {
     "data": {
      "text/plain": [
       "Index(['Respondent', 'LanguageWorkedWith', 'LanguageDesireNextYear',\n",
       "       'DatabaseWorkedWith', 'DatabaseDesireNextYear', 'PlatformWorkedWith',\n",
       "       'PlatformDesireNextYear', 'WebFrameWorkedWith',\n",
       "       'WebFrameDesireNextYear', 'DevEnviron', 'OpSys', 'Containers',\n",
       "       'BlockchainOrg', 'BlockchainIs'],\n",
       "      dtype='object')"
      ]
     },
     "execution_count": 13,
     "metadata": {},
     "output_type": "execute_result"
    }
   ],
   "source": [
    "df.columns"
   ]
  },
  {
   "cell_type": "code",
   "execution_count": 23,
   "id": "71ae88f0-2c04-4443-bc02-7f76f8bb7a6b",
   "metadata": {},
   "outputs": [],
   "source": [
    "file_name = 'dataset/m5_survey_data_demographics.csv'\n",
    "df_ = pd.read_csv(file_name)"
   ]
  },
  {
   "cell_type": "code",
   "execution_count": 27,
   "id": "b1b937a1-2c40-4cf2-a20d-88837e196ff2",
   "metadata": {},
   "outputs": [
    {
     "data": {
      "text/html": [
       "<div>\n",
       "<style scoped>\n",
       "    .dataframe tbody tr th:only-of-type {\n",
       "        vertical-align: middle;\n",
       "    }\n",
       "\n",
       "    .dataframe tbody tr th {\n",
       "        vertical-align: top;\n",
       "    }\n",
       "\n",
       "    .dataframe thead th {\n",
       "        text-align: right;\n",
       "    }\n",
       "</style>\n",
       "<table border=\"1\" class=\"dataframe\">\n",
       "  <thead>\n",
       "    <tr style=\"text-align: right;\">\n",
       "      <th></th>\n",
       "      <th>Age</th>\n",
       "      <th>Gender</th>\n",
       "      <th>Country</th>\n",
       "      <th>EdLevel</th>\n",
       "    </tr>\n",
       "  </thead>\n",
       "  <tbody>\n",
       "    <tr>\n",
       "      <th>0</th>\n",
       "      <td>22.0</td>\n",
       "      <td>Man</td>\n",
       "      <td>United States</td>\n",
       "      <td>Bachelor’s degree (BA, BS, B.Eng., etc.)</td>\n",
       "    </tr>\n",
       "    <tr>\n",
       "      <th>1</th>\n",
       "      <td>23.0</td>\n",
       "      <td>Man</td>\n",
       "      <td>New Zealand</td>\n",
       "      <td>Some college/university study without earning ...</td>\n",
       "    </tr>\n",
       "    <tr>\n",
       "      <th>2</th>\n",
       "      <td>28.0</td>\n",
       "      <td>Man</td>\n",
       "      <td>United States</td>\n",
       "      <td>Master’s degree (MA, MS, M.Eng., MBA, etc.)</td>\n",
       "    </tr>\n",
       "  </tbody>\n",
       "</table>\n",
       "</div>"
      ],
      "text/plain": [
       "    Age Gender        Country  \\\n",
       "0  22.0    Man  United States   \n",
       "1  23.0    Man    New Zealand   \n",
       "2  28.0    Man  United States   \n",
       "\n",
       "                                             EdLevel  \n",
       "0           Bachelor’s degree (BA, BS, B.Eng., etc.)  \n",
       "1  Some college/university study without earning ...  \n",
       "2        Master’s degree (MA, MS, M.Eng., MBA, etc.)  "
      ]
     },
     "execution_count": 27,
     "metadata": {},
     "output_type": "execute_result"
    }
   ],
   "source": [
    "genders = ['Man', 'Woman']\n",
    "df_ = df_[df_['Gender'].isin(genders)][['Age',\t'Gender', 'Country', 'EdLevel']]\n",
    "df_.head(3)\n",
    "\n",
    "\n"
   ]
  },
  {
   "cell_type": "code",
   "execution_count": 37,
   "id": "0189a7ab-5d78-4877-9fb3-f3d8eecea650",
   "metadata": {
    "scrolled": true
   },
   "outputs": [
    {
     "data": {
      "text/plain": [
       "Age\n",
       "16.0      2\n",
       "17.0      6\n",
       "18.0     29\n",
       "19.0     74\n",
       "20.0    108\n",
       "21.0    196\n",
       "22.0    403\n",
       "23.0    570\n",
       "24.0    666\n",
       "25.0    724\n",
       "26.0    706\n",
       "27.0    706\n",
       "28.0    774\n",
       "29.0    683\n",
       "30.0    639\n",
       "31.0    521\n",
       "32.0    485\n",
       "33.0    480\n",
       "34.0    389\n",
       "35.0    388\n",
       "36.0    307\n",
       "37.0    277\n",
       "38.0    278\n",
       "39.0    230\n",
       "40.0    185\n",
       "41.0    136\n",
       "42.0    161\n",
       "43.0    100\n",
       "44.0     94\n",
       "45.0     85\n",
       "46.0     65\n",
       "47.0     67\n",
       "48.0     64\n",
       "49.0     65\n",
       "50.0     56\n",
       "51.0     27\n",
       "52.0     39\n",
       "53.0     32\n",
       "54.0     25\n",
       "55.0     13\n",
       "56.0     15\n",
       "57.0     10\n",
       "58.0     10\n",
       "59.0     11\n",
       "60.0      2\n",
       "61.0     10\n",
       "62.0      5\n",
       "63.0      7\n",
       "65.0      2\n",
       "66.0      1\n",
       "67.0      1\n",
       "71.0      2\n",
       "72.0      1\n",
       "99.0      1\n",
       "Name: count, dtype: int64"
      ]
     },
     "execution_count": 37,
     "metadata": {},
     "output_type": "execute_result"
    }
   ],
   "source": [
    "# Respondent by age\n",
    "\n",
    "respondent_by_age = df_['Age'].value_counts().sort_index()\n",
    "respondent_by_age"
   ]
  },
  {
   "cell_type": "code",
   "execution_count": 38,
   "id": "46ca5996-a392-49c7-81ed-2dbd8d499cca",
   "metadata": {},
   "outputs": [
    {
     "data": {
      "text/plain": [
       "Gender\n",
       "Man      10480\n",
       "Woman      731\n",
       "Name: count, dtype: int64"
      ]
     },
     "execution_count": 38,
     "metadata": {},
     "output_type": "execute_result"
    }
   ],
   "source": [
    "# Respondent by gender\n",
    "\n",
    "respondent_by_gender = df_['Gender'].value_counts()\n",
    "respondent_by_gender"
   ]
  },
  {
   "cell_type": "code",
   "execution_count": 41,
   "id": "9751126f-f23d-4b1d-8acb-66d807fa4489",
   "metadata": {
    "scrolled": true
   },
   "outputs": [
    {
     "name": "stdout",
     "output_type": "stream",
     "text": [
      "Country\n",
      "United States                                3058\n",
      "India                                         890\n",
      "United Kingdom                                808\n",
      "Germany                                       693\n",
      "Canada                                        426\n",
      "France                                        333\n",
      "Brazil                                        321\n",
      "Australia                                     280\n",
      "Spain                                         250\n",
      "Netherlands                                   248\n",
      "Russian Federation                            204\n",
      "Poland                                        202\n",
      "Italy                                         186\n",
      "Sweden                                        159\n",
      "Switzerland                                   144\n",
      "Ukraine                                       106\n",
      "Israel                                        102\n",
      "South Africa                                   98\n",
      "Turkey                                         96\n",
      "Mexico                                         94\n",
      "Romania                                        94\n",
      "Pakistan                                       92\n",
      "Belgium                                        87\n",
      "Austria                                        87\n",
      "Norway                                         84\n",
      "Iran                                           83\n",
      "Denmark                                        82\n",
      "Bulgaria                                       77\n",
      "Greece                                         73\n",
      "New Zealand                                    72\n",
      "Czech Republic                                 72\n",
      "Argentina                                      70\n",
      "Finland                                        69\n",
      "China                                          69\n",
      "Portugal                                       67\n",
      "Ireland                                        66\n",
      "Hungary                                        62\n",
      "Bangladesh                                     56\n",
      "Serbia                                         53\n",
      "Japan                                          50\n",
      "Colombia                                       50\n",
      "Malaysia                                       42\n",
      "Nigeria                                        42\n",
      "Sri Lanka                                      40\n",
      "Egypt                                          37\n",
      "Philippines                                    36\n",
      "Indonesia                                      34\n",
      "Lithuania                                      34\n",
      "Slovenia                                       34\n",
      "Hong Kong (S.A.R.)                             33\n",
      "Croatia                                        31\n",
      "Singapore                                      30\n",
      "Slovakia                                       28\n",
      "Estonia                                        27\n",
      "Belarus                                        24\n",
      "Taiwan                                         21\n",
      "Chile                                          21\n",
      "Kenya                                          20\n",
      "Latvia                                         19\n",
      "United Arab Emirates                           19\n",
      "Other Country (Not Listed Above)               18\n",
      "Thailand                                       17\n",
      "Dominican Republic                             16\n",
      "South Korea                                    15\n",
      "Uruguay                                        15\n",
      "Nepal                                          15\n",
      "Costa Rica                                     15\n",
      "Guatemala                                      13\n",
      "Armenia                                        12\n",
      "Viet Nam                                       12\n",
      "Albania                                        12\n",
      "Saudi Arabia                                   12\n",
      "Peru                                           12\n",
      "Lebanon                                        11\n",
      "Luxembourg                                     11\n",
      "Ecuador                                        11\n",
      "Bosnia and Herzegovina                         10\n",
      "Tunisia                                         9\n",
      "Republic of Moldova                             9\n",
      "Georgia                                         9\n",
      "El Salvador                                     8\n",
      "Morocco                                         8\n",
      "Malta                                           8\n",
      "Venezuela, Bolivarian Republic of...            7\n",
      "Jordan                                          7\n",
      "Cyprus                                          7\n",
      "The former Yugoslav Republic of Macedonia       7\n",
      "Uganda                                          6\n",
      "Iceland                                         6\n",
      "Honduras                                        5\n",
      "Ghana                                           5\n",
      "Zimbabwe                                        5\n",
      "Azerbaijan                                      5\n",
      "Côte d'Ivoire                                   5\n",
      "Bolivia                                         4\n",
      "Kyrgyzstan                                      4\n",
      "Cameroon                                        4\n",
      "Ethiopia                                        4\n",
      "Cuba                                            4\n",
      "Paraguay                                        4\n",
      "Nicaragua                                       3\n",
      "Swaziland                                       3\n",
      "Bahrain                                         3\n",
      "Algeria                                         3\n",
      "Myanmar                                         3\n",
      "Syrian Arab Republic                            3\n",
      "Afghanistan                                     2\n",
      "United Republic of Tanzania                     2\n",
      "Senegal                                         2\n",
      "Congo, Republic of the...                       2\n",
      "Sudan                                           2\n",
      "Mongolia                                        2\n",
      "Panama                                          2\n",
      "Burundi                                         2\n",
      "Uzbekistan                                      2\n",
      "Kuwait                                          2\n",
      "Montenegro                                      2\n",
      "Mauritius                                       2\n",
      "Timor-Leste                                     1\n",
      "Mozambique                                      1\n",
      "Cambodia                                        1\n",
      "Togo                                            1\n",
      "Libyan Arab Jamahiriya                          1\n",
      "Cape Verde                                      1\n",
      "Jamaica                                         1\n",
      "Monaco                                          1\n",
      "Yemen                                           1\n",
      "Brunei Darussalam                               1\n",
      "Rwanda                                          1\n",
      "Liechtenstein                                   1\n",
      "Qatar                                           1\n",
      "Turkmenistan                                    1\n",
      "Somalia                                         1\n",
      "Republic of Korea                               1\n",
      "Iraq                                            1\n"
     ]
    }
   ],
   "source": [
    "# Respondent by country\n",
    "\n",
    "respondent_by_country = df_['Country'].value_counts()\n",
    "print(respondent_by_country.to_string())\n"
   ]
  },
  {
   "cell_type": "code",
   "execution_count": 44,
   "id": "77dea50d-40d3-4dc1-92f3-c87d13956e49",
   "metadata": {},
   "outputs": [
    {
     "data": {
      "text/plain": [
       "EdLevel                                                                             Gender\n",
       "Bachelor’s degree (BA, BS, B.Eng., etc.)                                            Man       5341\n",
       "Master’s degree (MA, MS, M.Eng., MBA, etc.)                                         Man       2484\n",
       "Some college/university study without earning a degree                              Man       1280\n",
       "Secondary school (e.g. American high school, German Realschule or Gymnasium, etc.)  Man        482\n",
       "Bachelor’s degree (BA, BS, B.Eng., etc.)                                            Woman      412\n",
       "Associate degree                                                                    Man        357\n",
       "Other doctoral degree (Ph.D, Ed.D., etc.)                                           Man        241\n",
       "Master’s degree (MA, MS, M.Eng., MBA, etc.)                                         Woman      191\n",
       "Professional degree (JD, MD, etc.)                                                  Man        144\n",
       "Some college/university study without earning a degree                              Woman       50\n",
       "Primary/elementary school                                                           Man         26\n",
       "I never completed any formal education                                              Man         26\n",
       "Secondary school (e.g. American high school, German Realschule or Gymnasium, etc.)  Woman       24\n",
       "Associate degree                                                                    Woman       20\n",
       "Other doctoral degree (Ph.D, Ed.D., etc.)                                           Woman       15\n",
       "Professional degree (JD, MD, etc.)                                                  Woman        8\n",
       "I never completed any formal education                                              Woman        1\n",
       "Name: count, dtype: int64"
      ]
     },
     "execution_count": 44,
     "metadata": {},
     "output_type": "execute_result"
    }
   ],
   "source": [
    "# Respondent by edlevel and gender\n",
    "\n",
    "respondent_by_edlevel_gender = df_[['EdLevel', 'Gender']].value_counts()\n",
    "respondent_by_edlevel_gender"
   ]
  },
  {
   "cell_type": "code",
   "execution_count": null,
   "id": "310a4ced-6656-4772-b837-6d93c22bed11",
   "metadata": {},
   "outputs": [],
   "source": []
  }
 ],
 "metadata": {
  "kernelspec": {
   "display_name": "Python 3 (ipykernel)",
   "language": "python",
   "name": "python3"
  },
  "language_info": {
   "codemirror_mode": {
    "name": "ipython",
    "version": 3
   },
   "file_extension": ".py",
   "mimetype": "text/x-python",
   "name": "python",
   "nbconvert_exporter": "python",
   "pygments_lexer": "ipython3",
   "version": "3.12.2"
  }
 },
 "nbformat": 4,
 "nbformat_minor": 5
}
